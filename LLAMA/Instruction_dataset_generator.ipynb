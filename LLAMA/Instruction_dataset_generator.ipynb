{
  "nbformat": 4,
  "nbformat_minor": 0,
  "metadata": {
    "colab": {
      "provenance": [],
      "authorship_tag": "ABX9TyNueB2aXjeu9n5CqVpg0LyK",
      "include_colab_link": true
    },
    "kernelspec": {
      "name": "python3",
      "display_name": "Python 3"
    },
    "language_info": {
      "name": "python"
    }
  },
  "cells": [
    {
      "cell_type": "markdown",
      "metadata": {
        "id": "view-in-github",
        "colab_type": "text"
      },
      "source": [
        "<a href=\"https://colab.research.google.com/github/harditrivedi16/Low-Resource-Chatbot-/blob/main/LLAMA/Instruction_dataset_generator.ipynb\" target=\"_parent\"><img src=\"https://colab.research.google.com/assets/colab-badge.svg\" alt=\"Open In Colab\"/></a>"
      ]
    },
    {
      "cell_type": "code",
      "execution_count": 1,
      "metadata": {
        "id": "1aMZ-82u4MA4"
      },
      "outputs": [],
      "source": [
        "import json\n",
        "import os"
      ]
    },
    {
      "cell_type": "code",
      "source": [
        "from google.colab import drive\n",
        "drive.mount('/content/drive')\n"
      ],
      "metadata": {
        "colab": {
          "base_uri": "https://localhost:8080/"
        },
        "id": "o8qNXHWl5XYi",
        "outputId": "9c8a0238-c712-45f2-faba-6ab0f6b717a1"
      },
      "execution_count": 2,
      "outputs": [
        {
          "output_type": "stream",
          "name": "stdout",
          "text": [
            "Mounted at /content/drive\n"
          ]
        }
      ]
    },
    {
      "cell_type": "code",
      "source": [
        "def transform_input_to_format(input_text):\n",
        "    pairs = input_text.strip().split('\\n')\n",
        "\n",
        "    transformed_pairs = []\n",
        "\n",
        "    for pair in pairs:\n",
        "        #if '=>' not in pair:\n",
        "           # print(f\"Warning: The pair '{pair}' does not contain the expected delimiter '=>' and will be skipped.\")\n",
        "            #continue\n",
        "\n",
        "        instruction, response = pair.split('=>', 1)\n",
        "        instruction = instruction.strip()\n",
        "        response = response.strip()\n",
        "\n",
        "        transformed_pairs.append(f'<s>[INST] {instruction} [/INST] {response} </s>\\n')\n",
        "\n",
        "    return ''.join(transformed_pairs)"
      ],
      "metadata": {
        "id": "q98lwBIa4XDH"
      },
      "execution_count": 42,
      "outputs": []
    },
    {
      "cell_type": "code",
      "source": [
        "def append_transformed_text_to_file(input_text, file_path='transformed_input.txt'):\n",
        "    transformed_text = transform_input_to_format(input_text)\n",
        "\n",
        "    with open(file_path, 'a') as file:\n",
        "        file.write(transformed_text + '\\n')\n",
        "\n",
        "    print(f'Transformed input has been appended to {file_path}')"
      ],
      "metadata": {
        "id": "_Whqk8HOCrcD"
      },
      "execution_count": 43,
      "outputs": []
    },
    {
      "cell_type": "code",
      "source": [
        "# Your multiline input text\n",
        "text_input = \"\"\"\n",
        "What did Prime Minister Narendra Modi say about the terror attack in Peshawar? => Prime Minister Narendra Modi condemned the terror attack at a school in Peshawar, describing it as a \"senseless act of unspeakable brutality\" that targeted \"the most innocent of human beings – young children in their school.\" He expressed his heart going out to those who lost loved ones and offered deepest condolences.\\n\n",
        "What was targeted in the terror attack mentioned by Narendra Modi? => The terror attack mentioned by Narendra Modi targeted a school in Peshawar.\\n\n",
        "How did Narendra Modi describe the victims of the Peshawar terror attack? => Narendra Modi described the victims of the Peshawar terror attack as \"the most innocent of human beings – young children in their school.\"\\n\n",
        "What emotions did Narendra Modi express in response to the Peshawar terror attack? => Narendra Modi expressed deep sorrow and sympathy, stating \"My heart goes out to everyone who lost their loved ones today.\"\\n\n",
        "What did Narendra Modi offer to the victims of the Peshawar terror attack? => Narendra Modi offered his deepest condolences to the victims of the Peshawar terror attack.\\n\n",
        "\"\"\"\n",
        "\n"
      ],
      "metadata": {
        "id": "_3nS5bY74bx-"
      },
      "execution_count": 44,
      "outputs": []
    },
    {
      "cell_type": "code",
      "source": [
        "# Specify the file path\n",
        "file_path = '/content/drive/MyDrive/LLAMA/pmindia.txt'"
      ],
      "metadata": {
        "id": "Q-lLyiCLDIIU"
      },
      "execution_count": 45,
      "outputs": []
    },
    {
      "cell_type": "code",
      "source": [
        "# Call the function with the new input text\n",
        "append_transformed_text_to_file(text_input, file_path)"
      ],
      "metadata": {
        "colab": {
          "base_uri": "https://localhost:8080/"
        },
        "id": "MRb0v18eC0JA",
        "outputId": "6bbbcc74-f61b-4ec4-a64b-65f9b322da12"
      },
      "execution_count": 46,
      "outputs": [
        {
          "output_type": "stream",
          "name": "stdout",
          "text": [
            "Warning: The pair '' does not contain the expected delimiter '=>' and will be skipped.\n",
            "Warning: The pair '' does not contain the expected delimiter '=>' and will be skipped.\n",
            "Warning: The pair '' does not contain the expected delimiter '=>' and will be skipped.\n",
            "Warning: The pair '' does not contain the expected delimiter '=>' and will be skipped.\n",
            "Transformed input has been appended to /content/drive/MyDrive/LLAMA/pmindia.txt\n"
          ]
        }
      ]
    }
  ]
}